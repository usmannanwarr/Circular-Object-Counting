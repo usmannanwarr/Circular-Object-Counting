{
  "nbformat": 4,
  "nbformat_minor": 0,
  "metadata": {
    "colab": {
      "provenance": []
    },
    "kernelspec": {
      "name": "python3",
      "display_name": "Python 3"
    },
    "language_info": {
      "name": "python"
    }
  },
  "cells": [
    {
      "cell_type": "code",
      "source": [
        "import xml.dom.minidom\n",
        "# parse the XML file\n",
        "xml_doc = xml.dom.minidom.parse('/content/annotations.xml')\n",
        "# get the root element\n",
        "root = xml_doc.documentElement\n",
        "# get all the image elements\n",
        "images = xml_doc.getElementsByTagName('image')\n",
        "# loop through the packages and extract the data\n",
        "count = 0\n",
        "for image in images:\n",
        "  name = image.getAttribute('name')\n",
        "  f = open('/content/anno_yolo_format/' + name.replace(\".png\", \".txt\"), 'w')\n",
        "  boxes = image.getElementsByTagName('box')\n",
        "  for box in boxes:\n",
        "    xtl = float(box.getAttribute('xtl'))\n",
        "    ytl = float(box.getAttribute('ytl'))\n",
        "    xbr = float(box.getAttribute('xbr'))\n",
        "    ybr = float(box.getAttribute('ybr'))\n",
        "    width = (xbr - xtl)\n",
        "    height = (ybr - ytl)\n",
        "    x = (xtl + width/2)\n",
        "    y = (ytl + height/2)\n",
        "    line = \"0 \"+ str(x/640)+ \" \"+ str(y/640)+ \" \"+ str(width/640)+ \" \"+ str(height/640)+ \"\\n\"\n",
        "    f.write(line)\n",
        "  f.close()"
      ],
      "metadata": {
        "id": "dCE-9vnPTrp3"
      },
      "execution_count": null,
      "outputs": []
    },
    {
      "cell_type": "code",
      "source": [
        "!zip -r /content/anno_yolo_format.zip /content/anno_yolo_format\n",
        "from google.colab import files\n",
        "files.download(\"/content/anno_yolo_format.zip\")"
      ],
      "metadata": {
        "id": "y8DsY2SRbQrA"
      },
      "execution_count": null,
      "outputs": []
    }
  ]
}